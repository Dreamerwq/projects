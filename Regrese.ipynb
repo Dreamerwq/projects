{
 "cells": [
  {
   "cell_type": "markdown",
   "id": "0cf75ab4-bd4d-4ec2-a708-74797dbfce44",
   "metadata": {},
   "source": [
    "# Úkol č. 2 - regrese\n",
    "\n",
    "* Termíny jsou uvedeny na [courses.fit.cvut.cz/BI-ML1/homeworks/index.html](https://courses.fit.cvut.cz/BI-ML1/homeworks/index.html).\n",
    "* Pokud odevzdáte úkol po prvním termínu, ale před nejzazším termínem, budete penalizování -12 body, pozdější odevzdání je bez bodu.\n",
    "* V rámci tohoto úkolu se musíte vypořádat s regresní úlohou, s příznaky různých typů a s chybějícími hodnotami.\n",
    "* Před tím, než na nich postavíte predikční model, je třeba je nějakým způsobem převést do číselné reprezentace.\n",
    "    \n",
    "> **Úkoly jsou zadány tak, aby Vám daly prostor pro invenci. Vymyslet _jak přesně_ budete úkol řešit, je důležitou součástí zadání a originalita či nápaditost bude také hodnocena!**\n",
    "\n",
    "Využívejte buňky typu `Markdown` k vysvětlování Vašeho postupu. Za nepřehlednost budeme strhávat body.\n",
    "\n",
    "## Zdroj dat\n",
    "\n",
    "Budeme se zabývat predikcí délky dožití v různých zemích a letech.\n",
    "K dispozici máte trénovací data v souboru `data.csv` a data na vyhodnocení v souboru `evaluation.csv`.\n",
    "\n",
    "#### Seznam příznaků:\n",
    "\n",
    "* Year - Rok\n",
    "* Status - Status rozvinuté nebo rozvojové země\n",
    "* Life expectancy - Délka dožití v letech - **cílová proměnná, kterou budete predikovat**\n",
    "* Adult Mortality - Úmrtnost dospělých bez ohledu na pohlaví (pravděpodobnost, že osoby, které dosáhly věku 15 let, zemřou před dosažením věku 60 let (uvedeno na 1 000 osob)).\n",
    "* infant deaths - počet zemřelých kojenců na 1000 obyvatel\n",
    "* Alcohol - Alkohol, zaznamenaná spotřeba na obyvatele (15+) (v litrech čistého alkoholu)\n",
    "* percentage expenditure - Výdaje na zdravotnictví v procentech hrubého domácího produktu na obyvatele (%)\n",
    "* Hepatitis B - pokrytí očkováním proti hepatitidě B (HepB) u dětí ve věku 1 roku (%)\n",
    "* Measles - Spalničky - počet hlášených případů na 1000 obyvatel\n",
    "* BMI - průměrný index tělesné hmotnosti celé populace\n",
    "* under-five deaths - počet úmrtí dětí do pěti let na 1000 obyvatel\n",
    "* Polio - proočkovanost proti dětské obrně (Pol3) u dětí ve věku 1 roku (%)\n",
    "* Total expenditure - Výdaje vládních institucí na zdravotnictví jako procento celkových vládních výdajů (%)\n",
    "* Diphtheria - pokrytí očkováním proti záškrtu, tetanu a černému kašli (DTP3) u jednoletých dětí (%)\n",
    "* HIV/AIDS - počet úmrtí na 1 000 živě narozených dětí na HIV/AIDS (0-4 roky)\n",
    "* GDP - hrubý domácí produkt na obyvatele (v USD)\n",
    "* Population - počet obyvatel země\n",
    "* thinness 1-19 years - podíl dětí ve věku 10-19 let s indexem tělesné hmotnosti (BMI) menším než 2 směrodatné odchylky pod mediánem (%)\n",
    "* thinness 5-9 years - podíl dětí ve věku 5-9 let s indexem tělesné hmotnosti (BMI) menším než 2 směrodatné odchylky pod mediánem (%)\n",
    "* Income composition of resources - Index lidského rozvoje z hlediska příjmového složení zdrojů (index v rozmezí 0 až 1)\n",
    "* Schooling - počet let školní docházky (roky)\n",
    "\n",
    "\n",
    "## Pokyny k vypracování\n",
    "\n",
    "**Body zadání**, za jejichž (poctivé) vypracování získáte **25 bodů**: \n",
    "  * V notebooku načtěte data ze souboru `data.csv`. Vhodným způsobem si je rozdělte na podmnožiny, které Vám poslouží pro trénování (trénovací), porovnávání modelů (validační) a následnou predikci výkonnosti finálního modelu (testovací).\n",
    "    \n",
    "  * Proveďte základní předzpracování dat:\n",
    "    * Projděte si jednotlivé příznaky a transformujte je do vhodné podoby pro použití ve vybraném regresním modelu.\n",
    "    * Nějakým způsobem (klidně triviálním) se vypořádejte s chybějícími hodnotami. _Pozor na metodické chyby!_\n",
    "    * Můžete využívat i vizualizace. Vše stručně ale náležitě komentujte.\n",
    "<br /><br />\n",
    "  * Vytvořte **vlastní implementaci náhodného lesa**. Použijte k tomu níže předpřipravenou kostru.\n",
    "  \n",
    "  * Na připravená data postupně aplikujte Vaši předchozí implementaci modelu náhodného lesa, dále jeden z modelů **lineární regrese** nebo **hřebenové regrese**, a alespoň jeden další model podle Vašeho uvážení, přičemž pro každý z těchto modelů přiměřeně:\n",
    "    * Okomentujte vhodnost daného modelu pro daný typ úlohy.\n",
    "    * Experimentujte s normalizací (standardizace/min-max), pokud pro daný model očekáváte její příznivý vliv.\n",
    "    * Vyberte si hlavní hyperparametry k ladění a najděte jejich nejlepší hodnoty (vzhledem k RMSE).\n",
    "    * Pro model s nejlepšími hodnotami hyperparametrů na validační množině určete jeho chybu pomocí RMSE a MAE.\n",
    "    * Získané výsledky vždy řádně okomentujte.\n",
    "<br /><br />\n",
    "  * Ze všech zkoušených možností v předchozím kroku vyberte finální model a správně odhadněte, jakou chybu (RMSE) můžete očekávat na nových datech, která jste doposud neměli k dispozici. _Pozor na metodické chyby!_\n",
    "    \n",
    "  * Nakonec načtěte vyhodnocovací data ze souboru `evaluation.csv`. Pomocí finálního modelu napočítejte predikce pro tyto data. Vytvořte soubor `results.csv`, ve kterém získané predikce uložíte do sloupce **Life expectancy** a jednotlivé body identifikujete pomocí sloupců **Country** a **Year** (dodržte názvy sloupců!). Tento soubor též odevzdejte (uložte do repozitáře vedle notebooku).\n",
    "\n",
    "  * Ukázka, jak by mělo vypadat prvních několik řádků souboru `results.csv` (obecně s jinými hodnotami Life expectancy):\n",
    "  \n",
    "```\n",
    "Country,Year,Life expectancy\n",
    "Peru,2012,71.4\n",
    "Peru,2013,72.6\n",
    "...\n",
    "```\n",
    "\n",
    "\n",
    "## Poznámky k odevzdání\n",
    "\n",
    "  * Řiďte se pokyny ze stránky https://courses.fit.cvut.cz/BI-ML1/homeworks/index.html."
   ]
  },
  {
   "metadata": {},
   "cell_type": "markdown",
   "source": [
    "## Zdroje\n",
    "* Během práce jsem používal materiály z přednášek a cvičení\n",
    "* ChatGPT pro práci s knihovnou pandas\n",
    "* Dokumentace Scikit-learn"
   ],
   "id": "8bdfd0016b914f13"
  },
  {
   "metadata": {},
   "cell_type": "markdown",
   "source": "## Import knihoven",
   "id": "6549c9bfb480b2ad"
  },
  {
   "metadata": {
    "ExecuteTime": {
     "end_time": "2024-12-19T22:29:40.777614Z",
     "start_time": "2024-12-19T22:29:39.948885Z"
    }
   },
   "cell_type": "code",
   "source": [
    "import numpy as np\n",
    "import pandas as pd\n",
    "from sklearn.model_selection import train_test_split, ParameterGrid\n",
    "from sklearn.tree import DecisionTreeRegressor\n",
    "rd_seed = 1234\n",
    "from sklearn.preprocessing import StandardScaler\n",
    "from sklearn.preprocessing import MinMaxScaler\n",
    "from sklearn.preprocessing import RobustScaler\n",
    "from sklearn.metrics import mean_absolute_error\n",
    "    "
   ],
   "id": "afa87c28eac3e2ef",
   "outputs": [],
   "execution_count": 1
  },
  {
   "metadata": {},
   "cell_type": "markdown",
   "source": [
    "# Předzpracování Dat\n",
    "## Funkce, která rozdělí dataset\n",
    "* Dataset dělím v poměru 60/20/20.\n",
    "* Status jsem převedl na informaci, zda je země rozvinutá nebo ne."
   ],
   "id": "989d5537cf7bfd6"
  },
  {
   "metadata": {
    "ExecuteTime": {
     "end_time": "2024-12-19T22:29:40.783599Z",
     "start_time": "2024-12-19T22:29:40.780648Z"
    }
   },
   "cell_type": "code",
   "source": [
    "def data_split(dfa):\n",
    "    dfa[\"Status\"] = dfa[\"Status\"].apply(lambda x: False if x == \"Developing\" else True)\n",
    "    dfa.rename(columns={\"Status\": \"Developed\"}, inplace=True)\n",
    "    y0 = df[\"Life expectancy\"]\n",
    "    X0 = df.drop([\"Life expectancy\"], axis=1)\n",
    "    X1, X2, y1, y2 = train_test_split(X0, y0, test_size=0.4, random_state=rd_seed)\n",
    "    X3, X2, y3, y2 = train_test_split(X2, y2, test_size=0.5, random_state=rd_seed)\n",
    "    return X1, X3, X2, y1, y3, y2\n",
    "\n"
   ],
   "id": "34bfb78a10faea39",
   "outputs": [],
   "execution_count": 2
  },
  {
   "metadata": {},
   "cell_type": "markdown",
   "source": [
    "# Vytvoření třídy pro data preprocessing\n",
    "## Metody:\n",
    "### Vytvoření slovníku zemí s jejich průměrnými daty\n",
    "* Slovník obsahuje průměrná data pro každou zemi (kromě GDP, kde více odpovídá median)\n",
    "* Pokud jsou všechny hodnoty NaN, pak jsou data doplněny průměry rozvinutých/nerozvinutých zemí\n",
    "### Funkce na doplnění dat každého řádku\n",
    "* Funkce pracuje s již vytvořeným slovníkem, který si uchovává pro každý stát jeho průměrná data\n",
    "* Tuto funkci aplikuji na každý řádek\n",
    "### Formátování dat\n",
    "* Využívá všechny výše zmíněné metody\n",
    "* Dále upravuji a přidávám další data (komentáře níže)\n",
    "* Metoda vrací již zpracovaná data"
   ],
   "id": "1285a167ec98c805"
  },
  {
   "metadata": {
    "ExecuteTime": {
     "end_time": "2024-12-19T22:29:40.822664Z",
     "start_time": "2024-12-19T22:29:40.816188Z"
    }
   },
   "cell_type": "code",
   "source": [
    "class CData_preprocessor:\n",
    "    def __init__(self):\n",
    "\n",
    "        self.train_columns = None           # One hot encoding sloupce \n",
    "        self.developed_country_stats = []   # Průměrné statistiky rozvinutých zemí\n",
    "        self.undeveloped_country_stats = [] # Průměrné statistiky nerozvinutých zemí\n",
    "        self.first = 1                      # Kontrola pro tvorbu slovníku\n",
    "        self.dummies = None                 \n",
    "\n",
    "    def create_dic(self, d): # Vytvoření slovníku s průměrnými hodnotami\n",
    "        d_countries = d.Country.unique()\n",
    "        self.developed_country_stats = d[d[\"Developed\"] == True].drop([\"Country\"], axis=1).mean(skipna=True)\n",
    "        self.undeveloped_country_stats = d[d[\"Developed\"] == False].drop([\"Country\"], axis=1).mean(skipna=True)\n",
    "        self.developed_country_stats[\"GDP\"] = d[d[\"Developed\"] == True][\"GDP\"].median()  #Měním průměr na median protože lépe reprezentuje data\n",
    "        self.undeveloped_country_stats[\"GDP\"] = d[d[\"Developed\"] == False][\"GDP\"].median()\n",
    "        dic_countries = {}\n",
    "        for country in d_countries:\n",
    "            x = d[d[\"Country\"] == country].drop([\"Country\"], axis=1).mean()\n",
    "            nan_indexes = x[x.isna()].index\n",
    "            for index in nan_indexes:\n",
    "                if x[\"Developed\"] == 0:\n",
    "                    x[index] = self.undeveloped_country_stats[index]\n",
    "                else:\n",
    "                    x[index] = self.developed_country_stats[index]\n",
    "            dic_countries[country] = x\n",
    "        return dic_countries\n",
    "\n",
    "    def fill_missing_values(self, row, dic_fill): # doplnění chybějících hodnot na základě slovníku\n",
    "        country_name = row[\"Country\"]\n",
    "        if country_name in dic_fill.keys():\n",
    "            for col_name, col_value in dic_fill[country_name].items():\n",
    "                if pd.isna(row[col_name]):\n",
    "                    row[col_name] = col_value\n",
    "        else:\n",
    "            if row[\"Developed\"]:\n",
    "                for i, el in zip(self.developed_country_stats.index, self.developed_country_stats.to_numpy()):\n",
    "                    if pd.isna(row[i]):\n",
    "                        row[i] = el\n",
    "            else:\n",
    "                for i, el in zip(self.undeveloped_country_stats.index, self.undeveloped_country_stats.to_numpy()):\n",
    "                    if pd.isna(row[i]):\n",
    "                        row[i] = el\n",
    "        return row\n",
    "\n",
    "    def data_formatting(self, d, dic_fill):\n",
    "        d = d.apply(lambda row: self.fill_missing_values(row, dic_fill), axis=1) # Doplnění dat\n",
    "        d[\"Democratic\"] = d[\"Country\"].str.contains(\"Democratic\", case=False) # Navzdory svému názvu země, které mají ve jménu demokratické, nejsou příliš demokratické. Díky horším životním podmínkám jim klesá life_expectancy\n",
    "        d[\"Republic\"] = d[\"Country\"].str.contains(\"Republic\", case=False) # Republic je podobný případ jako democratic\n",
    "        d[\"contains_land\"] = d[\"Country\"].str.contains(\"land\", case=False) # Země (většinou Evropské) jsou většinou dost rozvinuté.\n",
    "        d[\"Country\"] = d[\"Country\"].astype(\"category\") # převedení na kategorický příznak\n",
    "        if self.dummies is None: # Vytvoření dummies, které budu doplňovat do dalšího datasetu\n",
    "            self.dummies = pd.get_dummies(d[\"Country\"], drop_first=False, prefix=\"Country\")\n",
    "            self.train_columns = self.dummies.columns\n",
    "            final = pd.concat([d, self.dummies], axis=1)\n",
    "        else: # Doplnění datasetu o dummies\n",
    "            test_dummies = pd.get_dummies(d[\"Country\"], drop_first=False, prefix=\"Country\")\n",
    "            test_dummies = test_dummies.reindex(columns=self.train_columns, fill_value=0)\n",
    "            final = pd.concat([d, test_dummies], axis=1)\n",
    "        return final"
   ],
   "id": "487364917a70dfec",
   "outputs": [],
   "execution_count": 3
  },
  {
   "metadata": {},
   "cell_type": "markdown",
   "source": [
    "## Vlastní načtení a doplnění dat\n",
    "* Data jsem doplňoval přes pomocnou třídu "
   ],
   "id": "22e924d33802651d"
  },
  {
   "metadata": {
    "ExecuteTime": {
     "end_time": "2024-12-19T22:29:41.045101Z",
     "start_time": "2024-12-19T22:29:40.828275Z"
    }
   },
   "cell_type": "code",
   "source": [
    "df = pd.read_csv('data.csv')\n",
    "Xtrain, Xval, Xtest, ytrain, yval, ytest = data_split(df)\n",
    "data_preprocessor = CData_preprocessor()\n",
    "dic_fill_vals = data_preprocessor.create_dic(Xtrain)\n",
    "Xtrain = data_preprocessor.data_formatting(Xtrain, dic_fill_vals)\n",
    "Xval = data_preprocessor.data_formatting(Xval, dic_fill_vals)\n",
    "Xtest = data_preprocessor.data_formatting(Xtest, dic_fill_vals)"
   ],
   "id": "12211726433a3fa4",
   "outputs": [],
   "execution_count": 4
  },
  {
   "metadata": {},
   "cell_type": "markdown",
   "source": [
    "# Vlastní implementace náhodného lesa\n",
    "## Úvod\n",
    "* Výsledná hodnota je vypočítána jako průměr výsledků každého stromu v lese.\n",
    "* Tento model se narozdíl od klasických stromů dobře vypořádává s overfittingem.\n",
    "* Dalším pozitiní vlastností lesa je fakt, že mu nevadí vysoká dimenzionalita dat. V tomto případě máme hodně příznaků \n",
    "## Inicializace\n",
    "* uložení hyperparametrů do atributů\n",
    "*  Vytvoření a inicizalizace listu stromů\n",
    "## Fitování trénovacích dat\n",
    "* Data, který jsem fitoval jsem upravil pomocí baggingu\n",
    "## Predikování\n",
    "* Vrácení výsledných dat, které spočítám jako průměr výsledků ze všech stromů"
   ],
   "id": "ab45cca0d81f72f7"
  },
  {
   "cell_type": "code",
   "id": "280dc5d5-087b-4060-bd0a-c950c91f0533",
   "metadata": {
    "ExecuteTime": {
     "end_time": "2024-12-19T22:29:41.072039Z",
     "start_time": "2024-12-19T22:29:41.067482Z"
    }
   },
   "source": [
    "# Váš kód zde\n",
    "########################################################\n",
    "# Předpřipravená kostra modelu náhodného lesa\n",
    "class CustomRandomForest:\n",
    "    \"\"\"\n",
    "    Třída Vašeho modelu\n",
    "    Bude se jednat o model náhodného lesa, kde podmodely tvoří rozhodovací stromy pro regresi.\n",
    "    Pro podmodely můžete použít implementaci DecisionTreeRegressor ze sklearn.\n",
    "    \"\"\"\n",
    "\n",
    "    def __init__(self, n_estimators, max_samples, max_depth, **kwargs):\n",
    "        \"\"\"\n",
    "        Konstruktor modelu\n",
    "        Základní hyperparametery:\n",
    "            n_estimators - počet podmodelů - rozhodovacích stromů.\n",
    "            max_samples - vyberte si, zda tento parametr bude označovat relativní počet bodů (tj. číslo mezi 0 a 1) \n",
    "                          nebo absolutní počet bodů (tj. číslo mezi 1 a velikostí trénovací množiny), \n",
    "                          které budou pro každý podmodel rozhodovacího stromu náhodně vybrány z trénovací množiny (bootstrap) a použity k jeho trénování.\n",
    "            max_depth - maximální hloubka každého z podmodelů rozhodovacího stromu.\n",
    "            kwargs - (volitelně) případné další hyperparametry, které pošlete do podmodelů rozhodovacího stromu\n",
    "        \"\"\"\n",
    "        self.n_estimators = n_estimators\n",
    "        self.max_samples = max_samples\n",
    "        self.max_depth = max_depth\n",
    "        self.kwargs = kwargs\n",
    "        self.rand = kwargs.pop(\"rand\")\n",
    "        self.models = []\n",
    "        for i in range(0, self.n_estimators):\n",
    "            new_tree = DecisionTreeRegressor(max_depth=self.max_depth, random_state=self.rand, **kwargs)\n",
    "            self.models.append(new_tree)\n",
    "\n",
    "    def fit(self, X, y):\n",
    "        \"\"\"\n",
    "        Natrénování modelu. Trénovací data jsou v argumentech X a y.\n",
    "        Pro trénování podmodelů používejte bootstraping a velikost samplovaného vzorku vezměte z hyperparametru max_samples_fraction\n",
    "        \"\"\"\n",
    "        for i in range(0, self.n_estimators):\n",
    "            learn_X = X.sample(frac=self.max_samples, random_state = self.rand+i, replace=True)\n",
    "            learn_y = y.sample(frac=self.max_samples, random_state = self.rand+i, replace=True)\n",
    "            self.models[i].fit(learn_X, learn_y)\n",
    "\n",
    "    def predict(self, X):\n",
    "        \"\"\"\n",
    "        Predikce y v zadaných bodech X\n",
    "        \"\"\"\n",
    "        y_pred = []\n",
    "        for model in self.models:\n",
    "            y_pred.append(model.predict(X))\n",
    "        y_pred = np.array(y_pred)\n",
    "        ypredicted = np.zeros((X.shape[0],))\n",
    "        for i in range(0, X.shape[0]):\n",
    "            ypredicted[i] = y_pred[:, i].mean()\n",
    "        return ypredicted\n"
   ],
   "outputs": [],
   "execution_count": 5
  },
  {
   "metadata": {},
   "cell_type": "markdown",
   "source": [
    "## Vytvoření parameter gridu s hyperparametry\n",
    "### Hyperparametry\n",
    "* n_estimators = počet stromů v lese\n",
    "* max_samples = velikost nově vzniklých datasetů pomocí baggingu\n",
    "* max_depth = maximální hloubka stromů\n",
    "* criterion = funkce pro určení rozdělení dat\n",
    "* min_samples_split = minimální počet vzorků potřebný pro rozdělení vrcholu\n",
    "* min_samples_leaf = minimální počet vzorků v listu\n",
    "\n",
    "Dále jsem z datasetu odstranil Country, protože je zbytečný díky OneHotEncodingu.\n"
   ],
   "id": "ca36820dad1b07a5"
  },
  {
   "cell_type": "code",
   "id": "3ac6f1cc0e70f9e7",
   "metadata": {
    "ExecuteTime": {
     "end_time": "2024-12-19T22:29:41.096765Z",
     "start_time": "2024-12-19T22:29:41.092220Z"
    }
   },
   "source": [
    "from sklearn.metrics import mean_squared_error\n",
    "# Hyperparametry jsem ladil iterativně; nejdříve jsem začínal s velkým rozpětím mezních hodnot a velkými kroky. Každou další iterací jsem snižioval rozmezí i velikost kroku.\n",
    "param_grid_crf = ParameterGrid({\"n_estimators\": range(50, 58, 1),\n",
    "                           \"max_samples\": [x/100.0 for x in range(90, 105, 5)],\n",
    "                           \"max_depth\": range(21, 24, 1),\n",
    "                            \"criterion\": [\"friedman_mse\"],\n",
    "                            \"min_samples_split\": [2, 3, 4],\n",
    "                            \"min_samples_leaf\": [1, 2, 3],\n",
    "                            })\n",
    "rmse_vals_crf = []\n",
    "my_max = len(param_grid_crf)\n",
    "list_country_names = [Xtrain[\"Country\"], Xval[\"Country\"], Xtest[\"Country\"]]\n",
    "Xtrain = Xtrain.drop([\"Country\"], axis=1)\n",
    "Xval = Xval.drop([\"Country\"], axis=1)\n",
    "Xtest = Xtest.drop([\"Country\"], axis=1)"
   ],
   "outputs": [],
   "execution_count": 6
  },
  {
   "metadata": {
    "ExecuteTime": {
     "end_time": "2024-12-19T22:39:17.178592Z",
     "start_time": "2024-12-19T22:29:41.115957Z"
    }
   },
   "cell_type": "code",
   "source": [
    "for params in param_grid_crf:\n",
    "    crf_reg = CustomRandomForest(rand=rd_seed, **params)\n",
    "    crf_reg.fit(Xtrain, ytrain)\n",
    "    y_pred_val = np.array(crf_reg.predict(Xval))\n",
    "    rmse_vals_crf.append(np.sqrt(mean_squared_error(yval, y_pred_val)))"
   ],
   "id": "8216231d-137d-4a04-b8f8-5e088e6ac6bb",
   "outputs": [],
   "execution_count": 7
  },
  {
   "metadata": {},
   "cell_type": "markdown",
   "source": [
    "### Výsledek\n",
    "* výsledná RMSE na validační množině je 1.887 a MAE je 1.185 "
   ],
   "id": "a2f7f881e239b0cd"
  },
  {
   "metadata": {
    "ExecuteTime": {
     "end_time": "2024-12-19T22:39:18.277489Z",
     "start_time": "2024-12-19T22:39:17.204929Z"
    }
   },
   "cell_type": "code",
   "source": [
    "best_params = param_grid_crf[np.argmin(rmse_vals_crf)]\n",
    "best_crf_reg = CustomRandomForest(rand=rd_seed, **best_params)\n",
    "best_crf_reg.fit(Xtrain, ytrain)\n",
    "y_train_pred_crf = best_crf_reg.predict(Xtrain)\n",
    "y_val_pred_crf = best_crf_reg.predict(Xval)\n",
    "\n",
    "print(f\"CustomRandomForest\\nTrénovací RMSE: {np.sqrt(mean_squared_error(ytrain, y_train_pred_crf))}\\nTrénovací MAE: {mean_absolute_error(ytrain, y_train_pred_crf)}\\nValidační RMSE: {np.sqrt(mean_squared_error(yval, y_val_pred_crf))}\\nValidační MAE: {mean_absolute_error(yval, y_val_pred_crf)}\\nBest params: {best_params}\")\n"
   ],
   "id": "c8d9704d50b894ea",
   "outputs": [
    {
     "name": "stdout",
     "output_type": "stream",
     "text": [
      "CustomRandomForest\n",
      "Trénovací RMSE: 0.7350997226212327\n",
      "Trénovací MAE: 0.4645724344225394\n",
      "Validační RMSE: 1.887828209218994\n",
      "Validační MAE: 1.1850216843152765\n",
      "Best params: {'n_estimators': 56, 'min_samples_split': 2, 'min_samples_leaf': 1, 'max_samples': 0.95, 'max_depth': 23, 'criterion': 'friedman_mse'}\n"
     ]
    }
   ],
   "execution_count": 8
  },
  {
   "metadata": {},
   "cell_type": "markdown",
   "source": [
    "## Vytvoření vyškalovaných dat\n",
    "* Vytvořil jsem tři hluboké kopie původního datasetu. Každá kopie má upravená data pomocí různých scalerů (MinMaxScaler, StandardScaler a RobustScaler)"
   ],
   "id": "e79130fe7dd17aff"
  },
  {
   "metadata": {
    "ExecuteTime": {
     "end_time": "2024-12-19T22:39:18.421381Z",
     "start_time": "2024-12-19T22:39:18.360377Z"
    }
   },
   "cell_type": "code",
   "source": [
    "standard_scaler = StandardScaler()\n",
    "Xtrain_scaled_standard = standard_scaler.fit_transform(Xtrain.copy(deep=True)) \n",
    "Xval_scaled_standard = standard_scaler.transform(Xval.copy(deep=True))\n",
    "Xtest_scaled_standard = standard_scaler.transform(Xtest.copy(deep=True))\n",
    "\n",
    "minmax_scaler = MinMaxScaler()\n",
    "Xtrain_scaled_minmax = minmax_scaler.fit_transform(Xtrain.copy(deep=True))\n",
    "Xval_scaled_minmax = minmax_scaler.transform(Xval.copy(deep=True))\n",
    "Xtest_scaled_minmax = minmax_scaler.transform(Xtest.copy(deep=True))\n",
    "\n",
    "robust_scaler = RobustScaler()\n",
    "Xtrain_scaled_robust = robust_scaler.fit_transform(Xtrain.copy(deep=True))\n",
    "Xval_scaled_robust = robust_scaler.transform(Xval.copy(deep=True))\n",
    "Xtest_scaled_robust = robust_scaler.transform(Xtest.copy(deep=True))"
   ],
   "id": "1a535a454fe7829d",
   "outputs": [],
   "execution_count": 9
  },
  {
   "metadata": {},
   "cell_type": "markdown",
   "source": [
    "## Hřebenová regrese\n",
    "* Hřebenová regrese funguje perfektně pro data, která mohou být kolineární, protože zavádí penaliizaci.\n",
    "* Zde ladím jediný hyperparametr, a to alpha\n",
    "Hřebenová regrese je citlivá na rozdíly v měřítku, proto data škáluji. Zvolil jsem tři druhy a to MinMax scaling, Standard scaling a Robust scaling."
   ],
   "id": "9b51a27ff21a47da"
  },
  {
   "metadata": {
    "ExecuteTime": {
     "end_time": "2024-12-19T22:39:18.592011Z",
     "start_time": "2024-12-19T22:39:18.451287Z"
    }
   },
   "cell_type": "code",
   "source": [
    "from sklearn.linear_model import Ridge\n",
    "\n",
    "ridge_val_mm = []\n",
    "ridge_val_st = []\n",
    "ridge_val_rb = []\n",
    "param_grid_ridge = ParameterGrid({\"alpha\": np.linspace(0.01, 1, 10)})\n",
    "for param in param_grid_ridge:\n",
    "    ridge_reg_mm = Ridge(**param, random_state=rd_seed)\n",
    "    ridge_reg_st = Ridge(**param, random_state=rd_seed)\n",
    "    ridge_reg_rb = Ridge(**param, random_state=rd_seed)\n",
    "    \n",
    "    ridge_reg_mm.fit(Xtrain_scaled_minmax, ytrain)\n",
    "    ridge_reg_st.fit(Xtrain_scaled_standard, ytrain)\n",
    "    ridge_reg_rb.fit(Xtrain_scaled_robust, ytrain)\n",
    "    \n",
    "    y_pred_ridge_mm = ridge_reg_mm.predict(Xval_scaled_minmax)\n",
    "    y_pred_ridge_st = ridge_reg_st.predict(Xval_scaled_standard)\n",
    "    y_pred_ridge_rb = ridge_reg_rb.predict(Xtest_scaled_robust)\n",
    "    \n",
    "    ridge_val_mm.append(np.sqrt(mean_squared_error(yval, y_pred_ridge_mm)))\n",
    "    ridge_val_st.append(np.sqrt(mean_squared_error(yval, y_pred_ridge_st)))\n",
    "    ridge_val_rb.append(np.sqrt(mean_squared_error(yval, y_pred_ridge_rb)))"
   ],
   "id": "20ca4ab35bb52d0c",
   "outputs": [],
   "execution_count": 10
  },
  {
   "metadata": {},
   "cell_type": "markdown",
   "source": [
    "### Výsledek\n",
    "* nejlepší výsledek poskytla hřebenová regrese s MinMax scalingem. Tento výsledek se pohybuje v blízkosti jiných modelů. Druhý je Standard Scaler a nejhůře dopadl Robust Scaler."
   ],
   "id": "4150e24b9978b69a"
  },
  {
   "metadata": {
    "ExecuteTime": {
     "end_time": "2024-12-19T22:39:18.667809Z",
     "start_time": "2024-12-19T22:39:18.646347Z"
    }
   },
   "cell_type": "code",
   "source": [
    "best_params_ridge_mm = param_grid_ridge[np.argmin(ridge_val_mm)]\n",
    "best_params_ridge_st = param_grid_ridge[np.argmin(ridge_val_st)]\n",
    "best_params__ridge_rb = param_grid_ridge[np.argmin(ridge_val_rb)]\n",
    "\n",
    "ridge_reg_mm = Ridge(**best_params_ridge_mm, random_state=rd_seed)\n",
    "ridge_reg_st = Ridge(**best_params_ridge_st, random_state=rd_seed)\n",
    "ridge_reg_rb = Ridge(**best_params__ridge_rb, random_state=rd_seed)\n",
    "\n",
    "ridge_reg_mm.fit(Xtrain_scaled_minmax, ytrain)\n",
    "ridge_reg_st.fit(Xtrain_scaled_standard, ytrain)\n",
    "ridge_reg_rb.fit(Xtrain_scaled_robust, ytrain)\n",
    "\n",
    "print(f\"Hřebenová regrese–MinMax\\nValidační RMSE: {min(ridge_val_mm)}\\nValidační MAE: {mean_absolute_error(yval, ridge_reg_mm.predict(Xval_scaled_minmax))}\\ns hyperparametry: {param_grid_ridge[np.argmin(ridge_val_mm)]}\\n\")\n",
    "print(f\"Hřebenová regrese–Standard\\nValidační RMSE: {min(ridge_val_st)}\\nValidační MAE: {mean_absolute_error(yval, ridge_reg_st.predict(Xval_scaled_standard))}\\ns hyperparametry: {param_grid_ridge[np.argmin(ridge_val_st)]}\\n\")\n",
    "print(f\"Hřebenová regrese–Robust\\nValidační RMSE: {min(ridge_val_rb)}\\nValidační MAE: {mean_absolute_error(yval, ridge_reg_rb.predict(Xval_scaled_robust))}\\ns hyperparametry: {param_grid_ridge[np.argmin(ridge_val_rb)]}\")\n"
   ],
   "id": "3127b1ef40f5637b",
   "outputs": [
    {
     "name": "stdout",
     "output_type": "stream",
     "text": [
      "Hřebenová regrese–MinMax\n",
      "Validační RMSE: 1.9125577683870207\n",
      "Validační MAE: 1.2205227774828513\n",
      "s hyperparametry: {'alpha': 0.01}\n",
      "\n",
      "Hřebenová regrese–Standard\n",
      "Validační RMSE: 1.9058654292910773\n",
      "Validační MAE: 1.2131710125674409\n",
      "s hyperparametry: {'alpha': 0.01}\n",
      "\n",
      "Hřebenová regrese–Robust\n",
      "Validační RMSE: 13.675425232679386\n",
      "Validační MAE: 1.5378712328215571\n",
      "s hyperparametry: {'alpha': 1.0}\n"
     ]
    }
   ],
   "execution_count": 11
  },
  {
   "metadata": {},
   "cell_type": "markdown",
   "source": [
    "## kNN Regressor\n",
    "* Model funguje na základě průměrování cílových proměnných k-nejlbižších sousedů.\n",
    "* Díky tomu že model nepředpokládá určitý tvar vztahu mezi daty, dokáže odhalit i nelineární závislosti, které by ostatní modely nemuseli odhalit.\n",
    "* Nevýhodou modelu je špatná práce s vysokodimenzionálními daty."
   ],
   "id": "95ff9f747e68654b"
  },
  {
   "metadata": {
    "ExecuteTime": {
     "end_time": "2024-12-19T22:41:11.590064Z",
     "start_time": "2024-12-19T22:39:18.723557Z"
    }
   },
   "cell_type": "code",
   "source": [
    "from sklearn.neighbors import KNeighborsRegressor\n",
    "param_grid = ParameterGrid({\"n_neighbors\": range(1, 6, 1),\n",
    "                            \"algorithm\": [\"ball_tree\", \"kd_tree\"],\n",
    "                            \"weights\": [\"uniform\", \"distance\"],\n",
    "                            \"leaf_size\": range(1, 5, 1),\n",
    "                            \"p\": [1, 2, 3, 4]\n",
    "                            })\n",
    "\n",
    "val_knn = []\n",
    "for params in param_grid:\n",
    "    knn_reg = KNeighborsRegressor(**params)\n",
    "    knn_reg.fit(Xtrain_scaled_standard, ytrain)\n",
    "    val_knn.append(np.sqrt(mean_squared_error(yval, knn_reg.predict(Xval_scaled_standard))))\n",
    "\n"
   ],
   "id": "f19290ddf6575b75",
   "outputs": [],
   "execution_count": 12
  },
  {
   "metadata": {
    "ExecuteTime": {
     "end_time": "2024-12-19T22:42:47.364778Z",
     "start_time": "2024-12-19T22:41:11.617035Z"
    }
   },
   "cell_type": "code",
   "source": [
    "val_knn_mm = []\n",
    "for params in param_grid:\n",
    "    knn_reg = KNeighborsRegressor(**params)\n",
    "    knn_reg.fit(Xtrain_scaled_minmax, ytrain)\n",
    "    val_knn_mm.append(np.sqrt(mean_squared_error(yval, knn_reg.predict(Xval_scaled_minmax))))"
   ],
   "id": "39a05f8252eba0fa",
   "outputs": [],
   "execution_count": 13
  },
  {
   "metadata": {},
   "cell_type": "markdown",
   "source": [
    "## Výsledky KNeighborsRegressor.\n",
    "* svými výsledky se model osvědčil, protože dosahuje podobných výsledků, jako vlastní implementace RandomForestu. \n",
    "* model se dále více osvědčil na datech, která byla vyškálovaná pomocí MinMax Scaleru."
   ],
   "id": "5c4ef33ac3d109c9"
  },
  {
   "metadata": {
    "ExecuteTime": {
     "end_time": "2024-12-19T22:42:48.449232Z",
     "start_time": "2024-12-19T22:42:47.391151Z"
    }
   },
   "cell_type": "code",
   "source": [
    "best_params_knn = param_grid[np.argmin(val_knn)]\n",
    "knn_reg_x = KNeighborsRegressor(**best_params_knn)\n",
    "knn_reg_x.fit(Xtrain_scaled_standard, ytrain)\n",
    "print(\"KNeighborsRegressor - Standard Scaler\")\n",
    "print(f\"Trénovací RMSE: {np.sqrt(mean_squared_error(ytrain, knn_reg_x.predict(Xtrain_scaled_standard)))}\")\n",
    "print(f\"Trénovací MAE: {mean_absolute_error(ytrain, knn_reg_x.predict(Xtrain_scaled_standard))}\")\n",
    "print(f\"Validační RMSE: {np.sqrt(mean_squared_error(yval, knn_reg_x.predict(Xval_scaled_standard)))}\")\n",
    "print(f\"Validační MAE: {mean_absolute_error(yval, knn_reg_x.predict(Xval_scaled_standard))}\")\n",
    "print(f\"Hyperparametry: {best_params_knn}\")"
   ],
   "id": "6f592d4c3e4b4564",
   "outputs": [
    {
     "name": "stdout",
     "output_type": "stream",
     "text": [
      "KNeighborsRegressor - Standard Scaler\n",
      "Trénovací RMSE: 0.0\n",
      "Trénovací MAE: 0.0\n",
      "Validační RMSE: 1.8892282524109398\n",
      "Validační MAE: 1.157325048074521\n",
      "Hyperparametry: {'weights': 'distance', 'p': 1, 'n_neighbors': 3, 'leaf_size': 1, 'algorithm': 'ball_tree'}\n"
     ]
    }
   ],
   "execution_count": 14
  },
  {
   "metadata": {
    "ExecuteTime": {
     "end_time": "2024-12-19T22:42:49.448716Z",
     "start_time": "2024-12-19T22:42:48.476245Z"
    }
   },
   "cell_type": "code",
   "source": [
    "best_params_knn_mm = param_grid[np.argmin(val_knn_mm)]\n",
    "knn_reg_x = KNeighborsRegressor(**best_params_knn_mm)\n",
    "knn_reg_x.fit(Xtrain_scaled_minmax, ytrain)\n",
    "print(\"KNeighborsRegressor - MinMax Scaler\")\n",
    "print(f\"Trénovací RMSE: {np.sqrt(mean_squared_error(ytrain, knn_reg_x.predict(Xtrain_scaled_minmax)))}\")\n",
    "print(f\"Trénovací MAE: {mean_absolute_error(ytrain, knn_reg_x.predict(Xtrain_scaled_minmax))}\")\n",
    "print(f\"Validační RMSE: {np.sqrt(mean_squared_error(yval, knn_reg_x.predict(Xval_scaled_minmax)))}\")\n",
    "print(f\"Validační MAE: {mean_absolute_error(yval, knn_reg_x.predict(Xval_scaled_minmax))}\")\n",
    "print(f\"Hyperparametry: {best_params_knn_mm}\")"
   ],
   "id": "a62753b94ba53ad5",
   "outputs": [
    {
     "name": "stdout",
     "output_type": "stream",
     "text": [
      "KNeighborsRegressor - MinMax Scaler\n",
      "Trénovací RMSE: 0.0\n",
      "Trénovací MAE: 0.0\n",
      "Validační RMSE: 1.8414291350729362\n",
      "Validační MAE: 1.1105716757709307\n",
      "Hyperparametry: {'weights': 'distance', 'p': 1, 'n_neighbors': 3, 'leaf_size': 1, 'algorithm': 'ball_tree'}\n"
     ]
    }
   ],
   "execution_count": 15
  },
  {
   "metadata": {},
   "cell_type": "markdown",
   "source": [
    "## Finální model\n",
    "Jako finální model si volím vlastní implementaci kNN Regressor s použitým MinMax Scalerem. Tento model má nejmenší RMSE na validační množině oproti ostatním testovaným modelů. \n",
    "Na neznámých datech můžeme očekávat  podobné RMSE, jako na testovací množině, protože model tyto data nikdy neviděl. Můžeme tudíž očekávat, že na evaluační množině bude výsledek podobný.\n",
    "\n",
    "Model na testovací množině ukazuje lepší RMSE než na validační o 0.1"
   ],
   "id": "987c8e9d246f43da"
  },
  {
   "metadata": {
    "ExecuteTime": {
     "end_time": "2024-12-19T22:42:50.699359Z",
     "start_time": "2024-12-19T22:42:49.474032Z"
    }
   },
   "cell_type": "code",
   "source": [
    "final_model = KNeighborsRegressor(**best_params_knn_mm)\n",
    "final_model.fit(Xtrain_scaled_minmax, ytrain)\n",
    "print(\"Random Forest Final Model\")\n",
    "print(f\"Trénovací RMSE: {np.sqrt(mean_squared_error(ytrain, final_model.predict(Xtrain_scaled_minmax)))}\")\n",
    "print(f\"Trénovací MAE: {mean_absolute_error(ytrain, final_model.predict(Xtrain_scaled_minmax))}\")\n",
    "print(f\"Validační RMSE: {np.sqrt(mean_squared_error(yval, final_model.predict(Xval_scaled_minmax)))}\")\n",
    "print(f\"Validační MAE: {mean_absolute_error(yval, final_model.predict(Xval_scaled_minmax))}\")\n",
    "print(f\"Testovací RMSE: {np.sqrt(mean_squared_error(ytest, final_model.predict(Xtest_scaled_minmax)))}\")\n",
    "print(f\"Testovací MAE: {mean_absolute_error(ytest, final_model.predict(Xtest_scaled_minmax))}\")"
   ],
   "id": "91db1b67ddab8165",
   "outputs": [
    {
     "name": "stdout",
     "output_type": "stream",
     "text": [
      "Random Forest Final Model\n",
      "Trénovací RMSE: 0.0\n",
      "Trénovací MAE: 0.0\n",
      "Validační RMSE: 1.8414291350729362\n",
      "Validační MAE: 1.1105716757709307\n",
      "Testovací RMSE: 1.8991523877390737\n",
      "Testovací MAE: 1.0794844128371246\n"
     ]
    }
   ],
   "execution_count": 16
  },
  {
   "metadata": {},
   "cell_type": "markdown",
   "source": "## Vytvoření výsledků evaluační množiny",
   "id": "7a0f3aea878e0495"
  },
  {
   "metadata": {
    "ExecuteTime": {
     "end_time": "2024-12-19T22:42:50.804734Z",
     "start_time": "2024-12-19T22:42:50.724789Z"
    }
   },
   "cell_type": "code",
   "source": [
    "eval_df = pd.read_csv(\"evaluation.csv\")\n",
    "eval_df[\"Status\"] = eval_df[\"Status\"].apply(lambda x: False if x == \"Developing\" else True)\n",
    "eval_df.rename(columns={\"Status\": \"Developed\"}, inplace=True)\n",
    "eval_df = data_preprocessor.data_formatting(eval_df, dic_fill_vals)\n",
    "eval_country_names = eval_df[\"Country\"]\n",
    "eval_df = eval_df.drop(columns=[\"Country\"])\n",
    "eval_df_scaled = minmax_scaler.transform(eval_df.copy(deep=True))\n",
    "result_df = pd.concat([eval_country_names, eval_df[\"Year\"], pd.Series(final_model.predict(eval_df_scaled), name=\"Life expectancy\")], axis=1)\n",
    "result_df.to_csv(\"results.csv\", index=False)"
   ],
   "id": "a85c2768c8a6fadb",
   "outputs": [],
   "execution_count": 17
  }
 ],
 "metadata": {
  "kernelspec": {
   "display_name": "Python 3 (ipykernel)",
   "language": "python",
   "name": "python3"
  },
  "language_info": {
   "codemirror_mode": {
    "name": "ipython",
    "version": 3
   },
   "file_extension": ".py",
   "mimetype": "text/x-python",
   "name": "python",
   "nbconvert_exporter": "python",
   "pygments_lexer": "ipython3",
   "version": "3.10.11"
  }
 },
 "nbformat": 4,
 "nbformat_minor": 5
}
